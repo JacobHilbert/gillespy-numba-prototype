{
 "cells": [
  {
   "cell_type": "code",
   "execution_count": 1,
   "id": "laden-nevada",
   "metadata": {},
   "outputs": [],
   "source": [
    "import numpy as np\n",
    "import numba as nb\n",
    "import matplotlib.pyplot as plt\n",
    "\n",
    "from numba import njit, f8, i8\n",
    "from collections import namedtuple"
   ]
  },
  {
   "cell_type": "markdown",
   "id": "deadly-headline",
   "metadata": {},
   "source": [
    "# Gillespie Algorithm\n",
    "\n",
    "We have $N$ chemical species $\\{S_1,\\cdots,S_n\\}$ and $M$ chemical reactions between them $\\{R_1,\\cdots ,R_M\\}$\n",
    "\n",
    "$X_i(t)$ is the amount of molecules (or concentration) of $S_i$. The system is thus described by the vector $\\vec x(t)=\\{X_1(t),\\cdots,X_N(t)\\}$.\n",
    "\n",
    "\n",
    "Each reaction $R_j$ has a state-change vector $\\vec v_j = \\{v_{1j},\\cdots,v_{Nj}\\}$, where the quantity $v_{ij}$ is the change that reaction $R_j$ produces on species $S_i$. If the system is in state $\\vec x$, reaction $R_j$ changes this state to $\\vec x + \\vec v_j$.\n",
    "\n",
    "Each reaction also has a \"propensity function\" $a_j(\\vec x)$, where $a_j(\\vec x) dt$ is the probability of the reaction $R_j$ occuring in the time interval $dt$.\n",
    "\n",
    "The reaction rate equation is:\n",
    "\n",
    "$$\n",
    "\\frac{d \\vec X(t)}{dt} = \\sum_{j=1}^M \\vec v_j  a_j(\\vec X(t))\n",
    "$$\n",
    "\n",
    "We define $p_j(\\tau,\\vec x)$ as the probability (given a state $\\vec x$) that the next reaction is $R_j$ and it will occur in a $\\tau$ interval. Apparently\n",
    "\n",
    "$$\n",
    "p_j(\\tau,\\vec x) = a_j(\\vec x) \\exp\\left( -\\tau a_0(\\vec x)\\right)\n",
    "$$\n",
    "\n",
    "Where $a_0(\\vec x)$ is the sum of all the $a_j$s. \n",
    "\n",
    "Therefore the stochastic time between reactions is an exponential random varaible with mean $1/a_0(\\vec x)$, and the reaction that occurs first can be picked from the $R_j$s with probabilities $a_j(\\vec x)/a_0(\\vec x)$.\n",
    "\n",
    "If we include the time as first coordinate on the state vector, $\\vec x=\\{t,m,r\\}$. $x_0=t$, the data can be stored more efficiently."
   ]
  },
  {
   "cell_type": "code",
   "execution_count": 2,
   "id": "accompanied-bundle",
   "metadata": {
    "scrolled": false
   },
   "outputs": [],
   "source": [
    "@njit\n",
    "def random_choice(arr,probs):\n",
    "    '''Sample elements of an array with specific probabilities. \n",
    "        `arr`: np.array, from which to sample. Possible n-dimensional\n",
    "        `probs`: np.array, same size as `arr`. No need to sum up to 1.\n",
    "    Returns a random sample from `arr`. \n",
    "    Sampling from a matrix will select from its rows.\n",
    "    This function exists because numba does not support the `p` flag on `random.choice`. \n",
    "    See [https://github.com/numba/numba/issues/2539] for details.'''\n",
    "    cummulative_probs = np.cumsum(probs)/np.sum(probs)\n",
    "    index = np.searchsorted(cummulative_probs, np.random.random(), side=\"right\")\n",
    "    return arr[index]\n",
    "\n",
    "@njit(f8[:](f8[:],i8))\n",
    "def moving_average(arr, w):\n",
    "    '''Moving average of 1D-array taking a definite number of neighbors.\n",
    "        `a`: 1D-array. Data to take the moving average\n",
    "        `w`: integer, window size, neighbors.\n",
    "    Returns an array with the moving mean. Has size `len(arr)+1-w` because of course it does. \n",
    "    If you have a time series (times,values), applying this function to both will give you \n",
    "    the mean time series i.e. you can plot(moving_average(times,w),moving_average(values,w)). '''\n",
    "    r = np.cumsum(arr)\n",
    "    r[w:] = r[w:] - r[:-w]\n",
    "    return r[w - 1:] / w\n",
    "\n",
    "def GillespieModel(a_foo, v_foo):\n",
    "    '''Generates an object to simulate the system with the Gillespie algorithm.\n",
    "        `a_foo`: an NJIT-compiled function f8[:](f8[:]). \n",
    "            a_foo(x_vec) should give the a_j probabilities vector for the reactions.\n",
    "        `v_foo`: an NJIT-compiled function f8[:,:](f8[:]). \n",
    "            v_foo(x_vec) should give the v_ij state-change matrix. \n",
    "            The first column of this matrix *must* be zeros.\n",
    "    Returns an object with the functions:\n",
    "        * step\n",
    "        * single_system\n",
    "        * multi_system\n",
    "    The probability vector and state-change matrix are functions of the state. This is not true \n",
    "    in general, and its coded that way to provide flexibility. Perhaps excessive flexibility. \n",
    "    Explicit time-dependent state changes should be treated with care, as they lie outside of the \n",
    "    statistical considerations of Gillespie's work.\n",
    "    '''\n",
    "    # this is only notation for the object-oriented people.\n",
    "    wrapper = namedtuple(\"GillespieModel\",[\"step\",\"single_system\",\"multi_system\"])\n",
    "\n",
    "    @njit(f8[:](f8[:]))\n",
    "    def step(x_ini):\n",
    "        '''Evolves the system one step from the given initial state. \n",
    "            `x_ini`: 1D-array of floats with elements [time,S1,S2,...,SN]\n",
    "        Returns the final state of the system, same length as `x_ini`.'''\n",
    "        # generates probability array and state-change matrix\n",
    "        a_arr = a_foo(x_ini)\n",
    "        v_matrix = v_foo(x_ini)\n",
    "        # choose randomly which reaction happens. v_j is the change on the state\n",
    "        v_j = random_choice(v_matrix, a_arr)\n",
    "        # as the time is the zeroth coordinate, generate a vector [dtau,0,0,...,0]\n",
    "        tau = np.zeros_like(x_ini)\n",
    "        tau[0] = np.random.exponential(1/np.sum(a_arr))\n",
    "        # the change in state is the initial state, plus change in state, plus change in time.\n",
    "        return x_ini + v_j + tau\n",
    "    \n",
    "    @njit(f8[:,:](f8[:],i8))\n",
    "    def single_system(x_ini, max_iter):\n",
    "        '''Evolves one system a definite number of iterations from the initial state. \n",
    "            `x_ini` is the same as in `step`.\n",
    "            `max_iter`: integer, iteration number.\n",
    "        Returns an array of states of length `max_iter`. \n",
    "        \n",
    "        The relatinship between the final time and the number of iterations is not trivial, \n",
    "        as time intervals depend on the system states.'''\n",
    "        states = np.zeros( (max_iter, len(x_ini)) )\n",
    "        states[0] = x_ini\n",
    "        for i in range(1,max_iter):\n",
    "            states[i] = step(states[i-1])\n",
    "        return states\n",
    "        \n",
    "    @njit(f8[:,:](f8[:,:],i8))\n",
    "    def multi_system(x_ini_vec,max_iter):\n",
    "        '''Evolves several systems at once a definite number of iterations.\n",
    "            `x_ini_vec`: 2D-array of floats. Vector of inital states, one for each system.\n",
    "            `max_iter`: integer, iteration number.\n",
    "        Returns a matrix with columns [time,S1,S2,...,SN], with all the states of all the systems, \n",
    "        ordered in time, so the information of which data belongs to which system is lost.\n",
    "        Data is clipped up to the minimum final time among the systems. This is done to avoid \n",
    "        statistic inaccuracies calculating mean values.'''\n",
    "        n_systems = len(x_ini_vec)\n",
    "        n_variables = len(x_ini_vec[0])\n",
    "        simulations = np.zeros( (n_systems,max_iter,n_variables) )\n",
    "        for i in range(n_systems):\n",
    "            simulations[i] = single_system(x_ini_vec[i],max_iter)\n",
    "        # reshape data to a big matrix\n",
    "        data = simulations.reshape(n_systems*max_iter,n_variables)\n",
    "        # order the data with respect to the first column (time)\n",
    "        data = data[np.argsort(data.T[0])] \n",
    "        # return data up to the time when the first system ended its simulation\n",
    "        systems_last_times = simulations[:,-1].T[0]\n",
    "        t_limit = np.min(systems_last_times)\n",
    "        mask = data.T[0] <= t_limit\n",
    "        \n",
    "        return data[mask]\n",
    "    \n",
    "    \n",
    "    return wrapper(step, single_system, multi_system)"
   ]
  },
  {
   "cell_type": "markdown",
   "id": "closed-radar",
   "metadata": {},
   "source": [
    "## mARN and protein simple model example"
   ]
  },
  {
   "cell_type": "code",
   "execution_count": 3,
   "id": "directed-murray",
   "metadata": {
    "scrolled": false
   },
   "outputs": [],
   "source": [
    "cm = 1.0\n",
    "dm = 0.2\n",
    "cp = 50\n",
    "dp = 0.03333333\n",
    "\n",
    "@njit(f8[:](f8[:]))\n",
    "def a(x_vec):\n",
    "    return np.array([cm, dm*x_vec[1], cp*x_vec[1], dp*x_vec[2]])\n",
    "\n",
    "@njit(f8[:,:](f8[:]))\n",
    "def v(x_vec):\n",
    "    # first column *must* be zeros\n",
    "    return np.array([\n",
    "        [0.,  1.,  0.], # creation of mRNA\n",
    "        [0., -1.,  0.], # degradation of mRNA\n",
    "        [0.,  0.,  1.], # creation of protein\n",
    "        [0.,  0., -1.], # degradation of protein\n",
    "    ])"
   ]
  },
  {
   "cell_type": "code",
   "execution_count": 4,
   "id": "effective-estate",
   "metadata": {
    "scrolled": true
   },
   "outputs": [
    {
     "name": "stdout",
     "output_type": "stream",
     "text": [
      "CPU times: user 6.57 s, sys: 12.4 ms, total: 6.58 s\n",
      "Wall time: 6.6 s\n"
     ]
    }
   ],
   "source": [
    "%time model = GillespieModel(a,v)"
   ]
  },
  {
   "cell_type": "code",
   "execution_count": 5,
   "id": "center-village",
   "metadata": {},
   "outputs": [
    {
     "name": "stdout",
     "output_type": "stream",
     "text": [
      "6.26 µs ± 457 ns per loop (mean ± std. dev. of 7 runs, 100000 loops each)\n"
     ]
    }
   ],
   "source": [
    "# one system, one step\n",
    "%timeit model.step(np.array([0.,0.,0.]))"
   ]
  },
  {
   "cell_type": "code",
   "execution_count": 6,
   "id": "statistical-slave",
   "metadata": {},
   "outputs": [
    {
     "name": "stdout",
     "output_type": "stream",
     "text": [
      "82.2 ms ± 4.18 ms per loop (mean ± std. dev. of 7 runs, 10 loops each)\n"
     ]
    }
   ],
   "source": [
    "# one system, 60k steps\n",
    "%timeit model.single_system(np.array([0.,0.,0.]),60_000)"
   ]
  },
  {
   "cell_type": "code",
   "execution_count": 7,
   "id": "direct-confidence",
   "metadata": {},
   "outputs": [
    {
     "name": "stdout",
     "output_type": "stream",
     "text": [
      "CPU times: user 8.92 s, sys: 265 ms, total: 9.19 s\n",
      "Wall time: 9.17 s\n"
     ]
    }
   ],
   "source": [
    "# 100 systems, 60k steps, take 1 of each 100 of the data to avoid eating up RAM\n",
    "%time ts,ms,ps = model[2](np.zeros((100,3)),60_000)[::100].T"
   ]
  },
  {
   "cell_type": "markdown",
   "id": "statistical-novel",
   "metadata": {},
   "source": [
    "### All simulations, means and stds bands"
   ]
  },
  {
   "cell_type": "code",
   "execution_count": 8,
   "id": "bibliographic-mambo",
   "metadata": {},
   "outputs": [
    {
     "data": {
      "text/plain": [
       "<matplotlib.collections.PolyCollection at 0x7f0d1c72afd0>"
      ]
     },
     "execution_count": 8,
     "metadata": {},
     "output_type": "execute_result"
    },
    {
     "data": {
      "image/png": "[encoded data removed]",
      "text/plain": [
       "<Figure size 432x288 with 1 Axes>"
      ]
     },
     "metadata": {
      "needs_background": "light"
     },
     "output_type": "display_data"
    }
   ],
   "source": [
    "w = 800\n",
    "\n",
    "tmeans = np.mean(np.reshape(ts[:(len(ts)//w)*w],(len(ts)//w,w)),axis=1)\n",
    "pmeans = np.mean(np.reshape(ps[:(len(ts)//w)*w],(len(ts)//w,w)),axis=1)\n",
    "pstds = np.std(np.reshape(ps[:(len(ts)//w)*w],(len(ts)//w,w)),axis=1)\n",
    "\n",
    "plt.scatter(ts,ps,s=1,c='#aaa')\n",
    "plt.plot(tmeans,pmeans,c='r')\n",
    "plt.fill_between(tmeans,pmeans-pstds,pmeans+pstds,color='r',alpha=0.2)"
   ]
  },
  {
   "cell_type": "markdown",
   "id": "great-vegetation",
   "metadata": {},
   "source": [
    "### Noise"
   ]
  },
  {
   "cell_type": "code",
   "execution_count": 9,
   "id": "cutting-literature",
   "metadata": {},
   "outputs": [
    {
     "data": {
      "text/plain": [
       "[<matplotlib.lines.Line2D at 0x7f0d22919640>]"
      ]
     },
     "execution_count": 9,
     "metadata": {},
     "output_type": "execute_result"
    },
    {
     "data": {
      "image/png": "[encoded data removed]",
      "text/plain": [
       "<Figure size 432x288 with 1 Axes>"
      ]
     },
     "metadata": {
      "needs_background": "light"
     },
     "output_type": "display_data"
    }
   ],
   "source": [
    "plt.plot(tmeans,pstds/pmeans,\"-o\")"
   ]
  }
 ],
 "metadata": {
  "kernelspec": {
   "display_name": "Python 3",
   "language": "python",
   "name": "python3"
  },
  "language_info": {
   "codemirror_mode": {
    "name": "ipython",
    "version": 3
   },
   "file_extension": ".py",
   "mimetype": "text/x-python",
   "name": "python",
   "nbconvert_exporter": "python",
   "pygments_lexer": "ipython3",
   "version": "3.8.7"
  }
 },
 "nbformat": 4,
 "nbformat_minor": 5
}
